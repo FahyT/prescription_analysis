{
 "cells": [
  {
   "cell_type": "markdown",
   "metadata": {},
   "source": [
    "# Technical Report\n",
    "\n",
    "## Introduction\n",
    "\n",
    "This report details the steps taken to transform raw data on NHS prescription costs into data suitable for analysis. It will also show how the analysis was performed and how outputs are produced (tables / visualisations etc). For details on the need for this analysis, please see the project summary.\n",
    "\n",
    "All work was done using the Python programming language. This report will include the code used to produce the analysis. This code can be run if the reader is viewing this report on github to produce the same results."
   ]
  },
  {
   "cell_type": "markdown",
   "metadata": {},
   "source": [
    "## Merging the Data\n",
    "\n",
    "The raw data is split into 6 different files, for each of the months to be analysed (6 months from July to December).\n",
    "\n",
    "The first step in analysing the data was therefore to join the datasets together, and add a column indicating which month the data was for. This was necessary as the specification requested a analysis of trends over time, so it was important to know which timeframe data had come from.\n",
    "\n",
    "This was achieved through the following functions:"
   ]
  },
  {
   "cell_type": "markdown",
   "metadata": {},
   "source": [
    "### Creating a dictionary of filepaths\n",
    "\n",
    "Firstly, data for each month needs to be read into Python from the raw .csv files. It is important to know which month each file relates to, so this was done by creating a dictionary with the month as the key and a pandas dataframe of the relevant data as the value."
   ]
  },
  {
   "cell_type": "code",
   "execution_count": 6,
   "metadata": {},
   "outputs": [
    {
     "name": "stderr",
     "output_type": "stream",
     "text": [
      "c:\\users\\thoma\\onedrive\\documents\\synoptic_project_qa\\.qa_project\\lib\\site-packages\\IPython\\core\\interactiveshell.py:3338: DtypeWarning: Columns (5) have mixed types.Specify dtype option on import or set low_memory=False.\n",
      "  if (await self.run_code(code, result,  async_=asy)):\n"
     ]
    }
   ],
   "source": [
    "import pandas as pd\n",
    "import os\n",
    "\n",
    "#global variables\n",
    "FILEPATH_IN = \"../Data/raw_data\"\n",
    "FILEPATH_OUT = \"../Data/processed_data\"\n",
    "\n",
    "#create dictionary of all month's data\n",
    "\n",
    "def create_data_dict(filepath):\n",
    "    data_dict = {}\n",
    "\n",
    "    for folder in os.listdir(filepath):\n",
    "        for filename in os.listdir(filepath + '/' +folder):\n",
    "            data_dict[folder[:folder.find('_')]] = pd.read_csv(filepath + '/' +folder+ '/' +filename, index_col=None, header=0)\n",
    "    \n",
    "    return data_dict\n",
    "\n",
    "data_dict = create_data_dict(FILEPATH_IN)"
   ]
  },
  {
   "cell_type": "markdown",
   "metadata": {},
   "source": [
    "### Testing Column Continuity\n",
    "\n",
    "The plan is to append the data by column. In order to do this, all the datasets need to have the same columns to ensure there are no errors. The following function was written to test this before joining the datasets together."
   ]
  },
  {
   "cell_type": "code",
   "execution_count": 8,
   "metadata": {},
   "outputs": [],
   "source": [
    "def test_cols_same(default_month, data_dict):\n",
    "\n",
    "    july_col = list(data_dict['July'].columns)\n",
    "\n",
    "    columns_dict = {}\n",
    "\n",
    "    for key, values in data_dict.items():\n",
    "        month_col = list(values.columns)\n",
    "        incon_col =[col for col in month_col if col not in july_col]\n",
    "        if len(incon_col) > 0:\n",
    "            columns_dict[key] = incon_col\n",
    "            \n",
    "    return columns_dict\n",
    "\n",
    "same_cols = test_cols_same(\"July\",data_dict)\n",
    "\n",
    "# if len(same_cols) > 0:\n",
    "#     raise Exception as ValueError(same_cols)"
   ]
  },
  {
   "cell_type": "markdown",
   "metadata": {},
   "source": [
    "July's dataset is used to compare to all the other data. If any of the other datasets have different columns to July, those columns are added to a dictionary and an error is raised detailing which dataset contains the differing column. Fortunately for the initial six datasets, all columns are the same. However, this function will be useful in future if additional data is added."
   ]
  },
  {
   "cell_type": "markdown",
   "metadata": {},
   "source": [
    "### Merging the Data into one Dataframe\n",
    "\n",
    "The data can now be joined together into one dataset, before cleaning the columns. This is achieved by iterating through the datasets in the data dictionary, adding a column indicating which month the data is for, adding the revised data to a list and then merging all data in that list into one dataframe. Finally, the data is written to the output folder specified in the global variables."
   ]
  },
  {
   "cell_type": "code",
   "execution_count": 11,
   "metadata": {},
   "outputs": [],
   "source": [
    "def join_datasets(data_dict):\n",
    "    datasets = []\n",
    "\n",
    "    for key, values in data_dict.items():\n",
    "        values['Month'] = key\n",
    "        datasets.append(values)\n",
    "    \n",
    "    full_dataset = pd.concat(datasets, axis=0, ignore_index=True)\n",
    "    return full_dataset\n",
    "\n",
    "full_data = join_datasets(data_dict)\n",
    "\n",
    "full_data.to_csv(FILEPATH_OUT + \"/\" + \"joined_data.csv\")\n",
    "\n",
    "full_data.head()"
   ]
  },
  {
   "cell_type": "markdown",
   "metadata": {},
   "source": [
    "## Cleaning the Data\n",
    "\n",
    "Now that the data is in one dataframe, the next step is to check that the columns contain consistent rows and that the data types for the columns make sense for further analysis."
   ]
  },
  {
   "cell_type": "code",
   "execution_count": 12,
   "metadata": {},
   "outputs": [
    {
     "data": {
      "text/plain": [
       "Regional Office Name     object\n",
       "Regional Office Code     object\n",
       "Area Team Name           object\n",
       "Area Team Code           object\n",
       "PCO Name                 object\n",
       "PCO Code                 object\n",
       "Practice Name            object\n",
       "Practice Code            object\n",
       "BNF Code                 object\n",
       "BNF Description          object\n",
       "Items                     int64\n",
       "Quantity                  int64\n",
       "ADQ Usage               float64\n",
       "NIC                     float64\n",
       "Actual Cost             float64\n",
       "Month                    object\n",
       "dtype: object"
      ]
     },
     "execution_count": 12,
     "metadata": {},
     "output_type": "execute_result"
    }
   ],
   "source": [
    "full_data.dtypes "
   ]
  },
  {
   "cell_type": "code",
   "execution_count": 13,
   "metadata": {},
   "outputs": [
    {
     "data": {
      "text/html": [
       "<div>\n",
       "<style scoped>\n",
       "    .dataframe tbody tr th:only-of-type {\n",
       "        vertical-align: middle;\n",
       "    }\n",
       "\n",
       "    .dataframe tbody tr th {\n",
       "        vertical-align: top;\n",
       "    }\n",
       "\n",
       "    .dataframe thead th {\n",
       "        text-align: right;\n",
       "    }\n",
       "</style>\n",
       "<table border=\"1\" class=\"dataframe\">\n",
       "  <thead>\n",
       "    <tr style=\"text-align: right;\">\n",
       "      <th></th>\n",
       "      <th>Regional Office Name</th>\n",
       "      <th>Regional Office Code</th>\n",
       "      <th>Area Team Name</th>\n",
       "      <th>Area Team Code</th>\n",
       "      <th>PCO Name</th>\n",
       "      <th>PCO Code</th>\n",
       "      <th>Practice Name</th>\n",
       "      <th>Practice Code</th>\n",
       "      <th>BNF Code</th>\n",
       "      <th>BNF Description</th>\n",
       "      <th>Items</th>\n",
       "      <th>Quantity</th>\n",
       "      <th>ADQ Usage</th>\n",
       "      <th>NIC</th>\n",
       "      <th>Actual Cost</th>\n",
       "      <th>Month</th>\n",
       "    </tr>\n",
       "  </thead>\n",
       "  <tbody>\n",
       "    <tr>\n",
       "      <th>0</th>\n",
       "      <td>LONDON</td>\n",
       "      <td>Y56</td>\n",
       "      <td>NORTH EAST LONDON AREA</td>\n",
       "      <td>Q61</td>\n",
       "      <td>BARKING &amp; DAGENHAM CCG</td>\n",
       "      <td>07L00</td>\n",
       "      <td>UNIDENTIFIED DOCTORS</td>\n",
       "      <td>07L998</td>\n",
       "      <td>0101021B0BEADAJ</td>\n",
       "      <td>Gaviscon Infant_Oral Pdr Sach</td>\n",
       "      <td>1</td>\n",
       "      <td>15</td>\n",
       "      <td>0.0</td>\n",
       "      <td>4.82</td>\n",
       "      <td>4.47711</td>\n",
       "      <td>Aug</td>\n",
       "    </tr>\n",
       "    <tr>\n",
       "      <th>1</th>\n",
       "      <td>LONDON</td>\n",
       "      <td>Y56</td>\n",
       "      <td>NORTH EAST LONDON AREA</td>\n",
       "      <td>Q61</td>\n",
       "      <td>BARKING &amp; DAGENHAM CCG</td>\n",
       "      <td>07L00</td>\n",
       "      <td>UNIDENTIFIED DOCTORS</td>\n",
       "      <td>07L998</td>\n",
       "      <td>0105010B0BBAFAS</td>\n",
       "      <td>Asacol_MR Tab E/C 800mg</td>\n",
       "      <td>1</td>\n",
       "      <td>168</td>\n",
       "      <td>84.0</td>\n",
       "      <td>109.80</td>\n",
       "      <td>101.71878</td>\n",
       "      <td>Aug</td>\n",
       "    </tr>\n",
       "    <tr>\n",
       "      <th>2</th>\n",
       "      <td>LONDON</td>\n",
       "      <td>Y56</td>\n",
       "      <td>NORTH EAST LONDON AREA</td>\n",
       "      <td>Q61</td>\n",
       "      <td>BARKING &amp; DAGENHAM CCG</td>\n",
       "      <td>07L00</td>\n",
       "      <td>UNIDENTIFIED DOCTORS</td>\n",
       "      <td>07L998</td>\n",
       "      <td>0301011R0AAAPAP</td>\n",
       "      <td>Salbutamol_Inha 100mcg (200 D) CFF</td>\n",
       "      <td>1</td>\n",
       "      <td>1</td>\n",
       "      <td>50.0</td>\n",
       "      <td>1.50</td>\n",
       "      <td>1.40183</td>\n",
       "      <td>Aug</td>\n",
       "    </tr>\n",
       "    <tr>\n",
       "      <th>3</th>\n",
       "      <td>LONDON</td>\n",
       "      <td>Y56</td>\n",
       "      <td>NORTH EAST LONDON AREA</td>\n",
       "      <td>Q61</td>\n",
       "      <td>BARKING &amp; DAGENHAM CCG</td>\n",
       "      <td>07L00</td>\n",
       "      <td>UNIDENTIFIED DOCTORS</td>\n",
       "      <td>07L998</td>\n",
       "      <td>0304010ABAAAAAA</td>\n",
       "      <td>Desloratadine_Tab 5mg</td>\n",
       "      <td>1</td>\n",
       "      <td>30</td>\n",
       "      <td>30.0</td>\n",
       "      <td>1.01</td>\n",
       "      <td>0.94795</td>\n",
       "      <td>Aug</td>\n",
       "    </tr>\n",
       "    <tr>\n",
       "      <th>4</th>\n",
       "      <td>LONDON</td>\n",
       "      <td>Y56</td>\n",
       "      <td>NORTH EAST LONDON AREA</td>\n",
       "      <td>Q61</td>\n",
       "      <td>BARKING &amp; DAGENHAM CCG</td>\n",
       "      <td>07L00</td>\n",
       "      <td>UNIDENTIFIED DOCTORS</td>\n",
       "      <td>07L998</td>\n",
       "      <td>0304010D0AAAAAA</td>\n",
       "      <td>Loratadine_Tab 10mg</td>\n",
       "      <td>1</td>\n",
       "      <td>14</td>\n",
       "      <td>14.0</td>\n",
       "      <td>0.35</td>\n",
       "      <td>0.43660</td>\n",
       "      <td>Aug</td>\n",
       "    </tr>\n",
       "  </tbody>\n",
       "</table>\n",
       "</div>"
      ],
      "text/plain": [
       "  Regional Office Name Regional Office Code          Area Team Name  \\\n",
       "0               LONDON                  Y56  NORTH EAST LONDON AREA   \n",
       "1               LONDON                  Y56  NORTH EAST LONDON AREA   \n",
       "2               LONDON                  Y56  NORTH EAST LONDON AREA   \n",
       "3               LONDON                  Y56  NORTH EAST LONDON AREA   \n",
       "4               LONDON                  Y56  NORTH EAST LONDON AREA   \n",
       "\n",
       "  Area Team Code                PCO Name PCO Code         Practice Name  \\\n",
       "0            Q61  BARKING & DAGENHAM CCG    07L00  UNIDENTIFIED DOCTORS   \n",
       "1            Q61  BARKING & DAGENHAM CCG    07L00  UNIDENTIFIED DOCTORS   \n",
       "2            Q61  BARKING & DAGENHAM CCG    07L00  UNIDENTIFIED DOCTORS   \n",
       "3            Q61  BARKING & DAGENHAM CCG    07L00  UNIDENTIFIED DOCTORS   \n",
       "4            Q61  BARKING & DAGENHAM CCG    07L00  UNIDENTIFIED DOCTORS   \n",
       "\n",
       "  Practice Code         BNF Code                     BNF Description  Items  \\\n",
       "0        07L998  0101021B0BEADAJ       Gaviscon Infant_Oral Pdr Sach      1   \n",
       "1        07L998  0105010B0BBAFAS             Asacol_MR Tab E/C 800mg      1   \n",
       "2        07L998  0301011R0AAAPAP  Salbutamol_Inha 100mcg (200 D) CFF      1   \n",
       "3        07L998  0304010ABAAAAAA               Desloratadine_Tab 5mg      1   \n",
       "4        07L998  0304010D0AAAAAA                 Loratadine_Tab 10mg      1   \n",
       "\n",
       "   Quantity  ADQ Usage     NIC  Actual Cost Month  \n",
       "0        15        0.0    4.82      4.47711   Aug  \n",
       "1       168       84.0  109.80    101.71878   Aug  \n",
       "2         1       50.0    1.50      1.40183   Aug  \n",
       "3        30       30.0    1.01      0.94795   Aug  \n",
       "4        14       14.0    0.35      0.43660   Aug  "
      ]
     },
     "execution_count": 13,
     "metadata": {},
     "output_type": "execute_result"
    }
   ],
   "source": [
    "full_data.head()"
   ]
  },
  {
   "cell_type": "code",
   "execution_count": 14,
   "metadata": {},
   "outputs": [
    {
     "data": {
      "text/plain": [
       "array(['NORTH EAST LONDON AREA', 'NORTH WEST LONDON AREA',\n",
       "       'SOUTH LONDON AREA'], dtype=object)"
      ]
     },
     "execution_count": 14,
     "metadata": {},
     "output_type": "execute_result"
    }
   ],
   "source": [
    "full_data['Area Team Name'].unique()"
   ]
  },
  {
   "cell_type": "markdown",
   "metadata": {},
   "source": [
    "## Analysing the Data\n",
    "\n",
    "Now that the data set is cleaned and reduced to the required columns, the data can be analysed to draw out insights. The focus will first be on descriptive statistics to meet the customer's requirements: \n",
    "\n",
    "- Trends in costs by Area Team.\n",
    "- Trends in costs by PCO.\n",
    "- Trends in costs by GP Practice.\n",
    "- GP Practices with highest prescription costs.\n",
    "- GP Practices with highest quantity of prescription.\n",
    "- Comparing practices with both high cost and high prescription quantity.\n",
    "\n",
    "There will then be an exploration of data modelling to determine if any further insight can be found."
   ]
  },
  {
   "cell_type": "markdown",
   "metadata": {},
   "source": [
    "## Trends by Area Team\n",
    "\n",
    "The 'Area Team' is a large geographical area. For this data, we are limited to three areas within London - North East, North West and South. The following code produces a chart that shows the trend over time for these areas."
   ]
  },
  {
   "cell_type": "code",
   "execution_count": 26,
   "metadata": {},
   "outputs": [
    {
     "data": {
      "text/html": [
       "<div>\n",
       "<style scoped>\n",
       "    .dataframe tbody tr th:only-of-type {\n",
       "        vertical-align: middle;\n",
       "    }\n",
       "\n",
       "    .dataframe tbody tr th {\n",
       "        vertical-align: top;\n",
       "    }\n",
       "\n",
       "    .dataframe thead th {\n",
       "        text-align: right;\n",
       "    }\n",
       "</style>\n",
       "<table border=\"1\" class=\"dataframe\">\n",
       "  <thead>\n",
       "    <tr style=\"text-align: right;\">\n",
       "      <th>Month</th>\n",
       "      <th>Aug</th>\n",
       "      <th>Dec</th>\n",
       "      <th>July</th>\n",
       "      <th>Nov</th>\n",
       "      <th>Oct</th>\n",
       "      <th>Sep</th>\n",
       "    </tr>\n",
       "    <tr>\n",
       "      <th>Area Team Name</th>\n",
       "      <th></th>\n",
       "      <th></th>\n",
       "      <th></th>\n",
       "      <th></th>\n",
       "      <th></th>\n",
       "      <th></th>\n",
       "    </tr>\n",
       "  </thead>\n",
       "  <tbody>\n",
       "    <tr>\n",
       "      <th>NORTH EAST LONDON AREA</th>\n",
       "      <td>3.205441e+07</td>\n",
       "      <td>3.212212e+07</td>\n",
       "      <td>3.428795e+07</td>\n",
       "      <td>3.370686e+07</td>\n",
       "      <td>3.448605e+07</td>\n",
       "      <td>3.324981e+07</td>\n",
       "    </tr>\n",
       "    <tr>\n",
       "      <th>NORTH WEST LONDON AREA</th>\n",
       "      <td>1.944534e+07</td>\n",
       "      <td>1.963164e+07</td>\n",
       "      <td>2.079511e+07</td>\n",
       "      <td>2.050573e+07</td>\n",
       "      <td>2.107448e+07</td>\n",
       "      <td>2.012940e+07</td>\n",
       "    </tr>\n",
       "    <tr>\n",
       "      <th>SOUTH LONDON AREA</th>\n",
       "      <td>3.081437e+07</td>\n",
       "      <td>3.028186e+07</td>\n",
       "      <td>3.234377e+07</td>\n",
       "      <td>3.182524e+07</td>\n",
       "      <td>3.277002e+07</td>\n",
       "      <td>3.129412e+07</td>\n",
       "    </tr>\n",
       "  </tbody>\n",
       "</table>\n",
       "</div>"
      ],
      "text/plain": [
       "Month                            Aug           Dec          July  \\\n",
       "Area Team Name                                                     \n",
       "NORTH EAST LONDON AREA  3.205441e+07  3.212212e+07  3.428795e+07   \n",
       "NORTH WEST LONDON AREA  1.944534e+07  1.963164e+07  2.079511e+07   \n",
       "SOUTH LONDON AREA       3.081437e+07  3.028186e+07  3.234377e+07   \n",
       "\n",
       "Month                            Nov           Oct           Sep  \n",
       "Area Team Name                                                    \n",
       "NORTH EAST LONDON AREA  3.370686e+07  3.448605e+07  3.324981e+07  \n",
       "NORTH WEST LONDON AREA  2.050573e+07  2.107448e+07  2.012940e+07  \n",
       "SOUTH LONDON AREA       3.182524e+07  3.277002e+07  3.129412e+07  "
      ]
     },
     "execution_count": 26,
     "metadata": {},
     "output_type": "execute_result"
    }
   ],
   "source": [
    "## code here\n",
    "import numpy as np\n",
    "\n",
    "data = full_data[['Area Team Name', 'Month', 'Actual Cost']]\n",
    "\n",
    "# area_team_data = data.groupby(['Area Team Name','Month']).sum()\n",
    "\n",
    "table = pd.pivot_table(data, values='Actual Cost', index=['Area Team Name'],\n",
    "                    columns=['Month'], aggfunc=np.sum)\n",
    "\n",
    "table\n",
    "\n",
    "## months are in incorrect order"
   ]
  },
  {
   "cell_type": "code",
   "execution_count": 2,
   "metadata": {},
   "outputs": [
    {
     "output_type": "error",
     "ename": "NameError",
     "evalue": "name 'table' is not defined",
     "traceback": [
      "\u001b[1;31m---------------------------------------------------------------------------\u001b[0m",
      "\u001b[1;31mNameError\u001b[0m                                 Traceback (most recent call last)",
      "\u001b[1;32m<ipython-input-2-0f3303a4790c>\u001b[0m in \u001b[0;36m<module>\u001b[1;34m\u001b[0m\n\u001b[0;32m      1\u001b[0m \u001b[1;32mimport\u001b[0m \u001b[0mplotly\u001b[0m\u001b[1;33m.\u001b[0m\u001b[0mexpress\u001b[0m \u001b[1;32mas\u001b[0m \u001b[0mpx\u001b[0m\u001b[1;33m\u001b[0m\u001b[1;33m\u001b[0m\u001b[0m\n\u001b[0;32m      2\u001b[0m \u001b[1;33m\u001b[0m\u001b[0m\n\u001b[1;32m----> 3\u001b[1;33m \u001b[0mwide_df\u001b[0m \u001b[1;33m=\u001b[0m \u001b[0mtable\u001b[0m\u001b[1;33m\u001b[0m\u001b[1;33m\u001b[0m\u001b[0m\n\u001b[0m\u001b[0;32m      4\u001b[0m \u001b[1;33m\u001b[0m\u001b[0m\n\u001b[0;32m      5\u001b[0m \u001b[0mfig\u001b[0m \u001b[1;33m=\u001b[0m \u001b[0mpx\u001b[0m\u001b[1;33m.\u001b[0m\u001b[0mbar\u001b[0m\u001b[1;33m(\u001b[0m\u001b[0mwide_df\u001b[0m\u001b[1;33m,\u001b[0m \u001b[0mx\u001b[0m\u001b[1;33m=\u001b[0m\u001b[1;34m\"Month\"\u001b[0m\u001b[1;33m,\u001b[0m \u001b[0my\u001b[0m\u001b[1;33m=\u001b[0m\u001b[1;34m'Area Team Name'\u001b[0m\u001b[1;33m,\u001b[0m \u001b[0mtitle\u001b[0m\u001b[1;33m=\u001b[0m\u001b[1;34m\"Prescription Costs by Area\"\u001b[0m\u001b[1;33m)\u001b[0m\u001b[1;33m\u001b[0m\u001b[1;33m\u001b[0m\u001b[0m\n",
      "\u001b[1;31mNameError\u001b[0m: name 'table' is not defined"
     ]
    }
   ],
   "source": [
    "import plotly.express as px\n",
    "\n",
    "wide_df = table\n",
    "\n",
    "fig = px.bar(wide_df, x=\"Month\", y='Area Team Name', title=\"Prescription Costs by Area\")\n",
    "fig.show()"
   ]
  },
  {
   "cell_type": "code",
   "execution_count": null,
   "metadata": {},
   "outputs": [],
   "source": []
  }
 ],
 "metadata": {
  "kernelspec": {
   "name": "Python 3.9.0 64-bit ('.qa_project')",
   "display_name": "Python 3.9.0 64-bit ('.qa_project')",
   "metadata": {
    "interpreter": {
     "hash": "9ef1b204cdc04f06fa8e8f703cf8128867cef74a0a5dfe0b2fb22ce97102cfe6"
    }
   }
  },
  "language_info": {
   "codemirror_mode": {
    "name": "ipython",
    "version": 3
   },
   "file_extension": ".py",
   "mimetype": "text/x-python",
   "name": "python",
   "nbconvert_exporter": "python",
   "pygments_lexer": "ipython3",
   "version": "3.9.0-final"
  }
 },
 "nbformat": 4,
 "nbformat_minor": 4
}